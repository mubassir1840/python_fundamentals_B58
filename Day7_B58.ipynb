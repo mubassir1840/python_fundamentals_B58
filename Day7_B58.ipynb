{
 "cells": [
  {
   "cell_type": "code",
   "execution_count": null,
   "id": "0e3b7cfc",
   "metadata": {},
   "outputs": [],
   "source": [
    "# Intro to Tuple datatypes:\n",
    "# Definition: An imutable list is called as tuple data type.\n",
    "# Classification: it is classified as immutable data type.\n",
    "# how to define the tuple data type ---> ()"
   ]
  },
  {
   "cell_type": "code",
   "execution_count": 2,
   "id": "d02400cc",
   "metadata": {},
   "outputs": [
    {
     "name": "stdout",
     "output_type": "stream",
     "text": [
      "('nikhil', 'praveen', 'raheem', 'imran', 'keerthi', 'farida')\n"
     ]
    }
   ],
   "source": [
    "students = ('nikhil','praveen','raheem','imran','keerthi','farida')\n",
    "print(students)"
   ]
  },
  {
   "cell_type": "code",
   "execution_count": 3,
   "id": "151d3352",
   "metadata": {},
   "outputs": [
    {
     "data": {
      "text/plain": [
       "tuple"
      ]
     },
     "execution_count": 3,
     "metadata": {},
     "output_type": "execute_result"
    }
   ],
   "source": [
    "type (students)"
   ]
  },
  {
   "cell_type": "code",
   "execution_count": null,
   "id": "0b2ea063",
   "metadata": {},
   "outputs": [],
   "source": [
    "# req: Change nikhil name to naveed"
   ]
  },
  {
   "cell_type": "code",
   "execution_count": 4,
   "id": "990f3446",
   "metadata": {},
   "outputs": [
    {
     "ename": "TypeError",
     "evalue": "'tuple' object does not support item assignment",
     "output_type": "error",
     "traceback": [
      "\u001b[1;31m---------------------------------------------------------------------------\u001b[0m",
      "\u001b[1;31mTypeError\u001b[0m                                 Traceback (most recent call last)",
      "\u001b[1;32m~\\AppData\\Local\\Temp/ipykernel_8492/3034645794.py\u001b[0m in \u001b[0;36m<module>\u001b[1;34m\u001b[0m\n\u001b[1;32m----> 1\u001b[1;33m \u001b[0mstudents\u001b[0m\u001b[1;33m[\u001b[0m\u001b[1;36m0\u001b[0m\u001b[1;33m]\u001b[0m \u001b[1;33m=\u001b[0m \u001b[1;34m'naveed'\u001b[0m\u001b[1;33m\u001b[0m\u001b[1;33m\u001b[0m\u001b[0m\n\u001b[0m",
      "\u001b[1;31mTypeError\u001b[0m: 'tuple' object does not support item assignment"
     ]
    }
   ],
   "source": [
    "students[0] = 'naveed'"
   ]
  },
  {
   "cell_type": "code",
   "execution_count": 5,
   "id": "44c5ff45",
   "metadata": {},
   "outputs": [
    {
     "name": "stdout",
     "output_type": "stream",
     "text": [
      "(200, 50)\n"
     ]
    }
   ],
   "source": [
    "dimensions = (200, 50)\n",
    "print(dimensions)"
   ]
  },
  {
   "cell_type": "code",
   "execution_count": null,
   "id": "c784abc0",
   "metadata": {},
   "outputs": [],
   "source": [
    "# req: change the dimension from 200 to 250."
   ]
  },
  {
   "cell_type": "code",
   "execution_count": 6,
   "id": "75da7b72",
   "metadata": {},
   "outputs": [
    {
     "name": "stdout",
     "output_type": "stream",
     "text": [
      "(250, 50)\n"
     ]
    }
   ],
   "source": [
    "dimensionns = (250, 50)\n",
    "print(dimensionns)"
   ]
  },
  {
   "cell_type": "code",
   "execution_count": 7,
   "id": "7cd357be",
   "metadata": {},
   "outputs": [
    {
     "name": "stdout",
     "output_type": "stream",
     "text": [
      "('nikhil', 'praveen', 'raheem', 'imran', 'keerthi', 'farida')\n"
     ]
    }
   ],
   "source": [
    "print(students)"
   ]
  },
  {
   "cell_type": "code",
   "execution_count": null,
   "id": "31b1c547",
   "metadata": {},
   "outputs": [],
   "source": [
    "# req: i want to get the praveen name in the output. "
   ]
  },
  {
   "cell_type": "code",
   "execution_count": 9,
   "id": "2281409b",
   "metadata": {},
   "outputs": [
    {
     "name": "stdout",
     "output_type": "stream",
     "text": [
      "praveen\n"
     ]
    }
   ],
   "source": [
    "print (students[1])"
   ]
  },
  {
   "cell_type": "code",
   "execution_count": null,
   "id": "fbb6d4eb",
   "metadata": {},
   "outputs": [],
   "source": [
    "#req: inplement a for loop on to the tuple:"
   ]
  },
  {
   "cell_type": "code",
   "execution_count": 12,
   "id": "265eaeb0",
   "metadata": {},
   "outputs": [
    {
     "name": "stdout",
     "output_type": "stream",
     "text": [
      "nikhil\n",
      "praveen\n",
      "raheem\n",
      "imran\n",
      "keerthi\n",
      "farida\n"
     ]
    }
   ],
   "source": [
    "for x in students:\n",
    "    print(x)"
   ]
  }
 ],
 "metadata": {
  "kernelspec": {
   "display_name": "Python 3 (ipykernel)",
   "language": "python",
   "name": "python3"
  },
  "language_info": {
   "codemirror_mode": {
    "name": "ipython",
    "version": 3
   },
   "file_extension": ".py",
   "mimetype": "text/x-python",
   "name": "python",
   "nbconvert_exporter": "python",
   "pygments_lexer": "ipython3",
   "version": "3.9.7"
  }
 },
 "nbformat": 4,
 "nbformat_minor": 5
}
