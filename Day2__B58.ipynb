{
 "cells": [
  {
   "cell_type": "code",
   "execution_count": null,
   "id": "6f6132e2",
   "metadata": {},
   "outputs": [],
   "source": [
    "understanding the varibales in python: "
   ]
  },
  {
   "cell_type": "code",
   "execution_count": null,
   "id": "ee4aff62",
   "metadata": {},
   "outputs": [],
   "source": [
    "x = 5\n",
    "y = 3"
   ]
  },
  {
   "cell_type": "code",
   "execution_count": 2,
   "id": "0bea6ffa",
   "metadata": {},
   "outputs": [
    {
     "ename": "NameError",
     "evalue": "name 'x' is not defined",
     "output_type": "error",
     "traceback": [
      "\u001b[1;31m---------------------------------------------------------------------------\u001b[0m",
      "\u001b[1;31mNameError\u001b[0m                                 Traceback (most recent call last)",
      "\u001b[1;32m~\\AppData\\Local\\Temp/ipykernel_15700/1525011898.py\u001b[0m in \u001b[0;36m<module>\u001b[1;34m\u001b[0m\n\u001b[1;32m----> 1\u001b[1;33m \u001b[0mx\u001b[0m\u001b[1;33m+\u001b[0m\u001b[0my\u001b[0m\u001b[1;33m\u001b[0m\u001b[1;33m\u001b[0m\u001b[0m\n\u001b[0m",
      "\u001b[1;31mNameError\u001b[0m: name 'x' is not defined"
     ]
    }
   ],
   "source": [
    "x+y"
   ]
  },
  {
   "cell_type": "code",
   "execution_count": 3,
   "id": "31435905",
   "metadata": {},
   "outputs": [
    {
     "name": "stdout",
     "output_type": "stream",
     "text": [
      "Shabaz\n"
     ]
    }
   ],
   "source": [
    "firstname = 'Shabaz'\n",
    "\n",
    "print (firstname)"
   ]
  },
  {
   "cell_type": "code",
   "execution_count": 4,
   "id": "259ce3da",
   "metadata": {},
   "outputs": [
    {
     "name": "stdout",
     "output_type": "stream",
     "text": [
      "Shabaz\n"
     ]
    }
   ],
   "source": [
    "first_name = 'Shabaz'\n",
    "print (first_name)"
   ]
  },
  {
   "cell_type": "code",
   "execution_count": 5,
   "id": "10a4649f",
   "metadata": {},
   "outputs": [
    {
     "name": "stdout",
     "output_type": "stream",
     "text": [
      "uday\n"
     ]
    }
   ],
   "source": [
    "name1 = 'uday'\n",
    "print(name1)"
   ]
  },
  {
   "cell_type": "code",
   "execution_count": 6,
   "id": "5cc70b33",
   "metadata": {},
   "outputs": [
    {
     "ename": "SyntaxError",
     "evalue": "invalid syntax (Temp/ipykernel_15700/2145901277.py, line 1)",
     "output_type": "error",
     "traceback": [
      "\u001b[1;36m  File \u001b[1;32m\"C:\\Users\\Shabaz\\AppData\\Local\\Temp/ipykernel_15700/2145901277.py\"\u001b[1;36m, line \u001b[1;32m1\u001b[0m\n\u001b[1;33m    name@ = 'simran'\u001b[0m\n\u001b[1;37m          ^\u001b[0m\n\u001b[1;31mSyntaxError\u001b[0m\u001b[1;31m:\u001b[0m invalid syntax\n"
     ]
    }
   ],
   "source": [
    "name@ = 'simran'\n",
    "print(name@)"
   ]
  },
  {
   "cell_type": "code",
   "execution_count": null,
   "id": "27f08719",
   "metadata": {},
   "outputs": [],
   "source": [
    "Introduction to data types in python:\n"
   ]
  },
  {
   "cell_type": "code",
   "execution_count": null,
   "id": "dbd8db6e",
   "metadata": {},
   "outputs": [],
   "source": [
    "1. string\n",
    "2. number ----> integers and float (decimal)\n",
    "3. list\n",
    "4. tuple\n",
    "5. dictionaries"
   ]
  },
  {
   "cell_type": "code",
   "execution_count": null,
   "id": "448fcc7c",
   "metadata": {},
   "outputs": [],
   "source": []
  },
  {
   "cell_type": "code",
   "execution_count": null,
   "id": "eeab326e",
   "metadata": {},
   "outputs": [],
   "source": [
    "classification of data types in python:  "
   ]
  },
  {
   "cell_type": "code",
   "execution_count": null,
   "id": "33043aca",
   "metadata": {},
   "outputs": [],
   "source": [
    "1. mutable ----> can be edited or altered ---> flexible data types\n",
    "2.immutable ----> cannot be edited or altered -----> fixed datatypes"
   ]
  },
  {
   "cell_type": "code",
   "execution_count": null,
   "id": "b2eb7b35",
   "metadata": {},
   "outputs": [],
   "source": []
  },
  {
   "cell_type": "code",
   "execution_count": null,
   "id": "0c0e5c45",
   "metadata": {},
   "outputs": [],
   "source": [
    "intro to string datatypes:"
   ]
  },
  {
   "cell_type": "code",
   "execution_count": 12,
   "id": "618ac0b7",
   "metadata": {},
   "outputs": [
    {
     "name": "stdout",
     "output_type": "stream",
     "text": [
      "kumar\n"
     ]
    }
   ],
   "source": [
    "name1 = 'kumar'\n",
    "print (name1)"
   ]
  },
  {
   "cell_type": "code",
   "execution_count": 14,
   "id": "9d1b4132",
   "metadata": {},
   "outputs": [
    {
     "name": "stdout",
     "output_type": "stream",
     "text": [
      "naveen\n"
     ]
    }
   ],
   "source": [
    "name2 = \"naveen\"\n",
    "print (name2)"
   ]
  },
  {
   "cell_type": "code",
   "execution_count": 10,
   "id": "bc78ca32",
   "metadata": {},
   "outputs": [
    {
     "name": "stdout",
     "output_type": "stream",
     "text": [
      "abdul\n"
     ]
    }
   ],
   "source": [
    "name3 = \"\"\"abdul\"\"\"\n",
    "print (name3)"
   ]
  },
  {
   "cell_type": "code",
   "execution_count": null,
   "id": "6597b671",
   "metadata": {},
   "outputs": [],
   "source": [
    "# is used for commenting the code. "
   ]
  },
  {
   "cell_type": "code",
   "execution_count": null,
   "id": "a06d1b05",
   "metadata": {},
   "outputs": [],
   "source": [
    "Intro to string methods:\n",
    "    methods are built in programs that are avaiable for use. "
   ]
  },
  {
   "cell_type": "code",
   "execution_count": 15,
   "id": "b7afc3a0",
   "metadata": {},
   "outputs": [
    {
     "data": {
      "text/plain": [
       "str"
      ]
     },
     "execution_count": 15,
     "metadata": {},
     "output_type": "execute_result"
    }
   ],
   "source": [
    "type (name)"
   ]
  },
  {
   "cell_type": "code",
   "execution_count": 16,
   "id": "cc1da9d9",
   "metadata": {},
   "outputs": [
    {
     "data": {
      "text/plain": [
       "str"
      ]
     },
     "execution_count": 16,
     "metadata": {},
     "output_type": "execute_result"
    }
   ],
   "source": [
    "type (name1)"
   ]
  },
  {
   "cell_type": "code",
   "execution_count": 17,
   "id": "83cd5894",
   "metadata": {},
   "outputs": [
    {
     "name": "stdout",
     "output_type": "stream",
     "text": [
      "kishor kumar\n"
     ]
    }
   ],
   "source": [
    "name = 'kishor kumar'\n",
    "print (name)"
   ]
  },
  {
   "cell_type": "code",
   "execution_count": 19,
   "id": "8c7065ab",
   "metadata": {},
   "outputs": [
    {
     "name": "stdout",
     "output_type": "stream",
     "text": [
      "Kishor Kumar\n"
     ]
    }
   ],
   "source": [
    "print (name.title())"
   ]
  },
  {
   "cell_type": "code",
   "execution_count": 20,
   "id": "c17bdce9",
   "metadata": {},
   "outputs": [
    {
     "name": "stdout",
     "output_type": "stream",
     "text": [
      "KISHOR KUMAR\n"
     ]
    }
   ],
   "source": [
    "print (name.upper())"
   ]
  },
  {
   "cell_type": "code",
   "execution_count": 21,
   "id": "3d6ed58e",
   "metadata": {},
   "outputs": [
    {
     "name": "stdout",
     "output_type": "stream",
     "text": [
      "kishor kumar\n"
     ]
    }
   ],
   "source": [
    "print(name.lower())"
   ]
  }
 ],
 "metadata": {
  "kernelspec": {
   "display_name": "Python 3 (ipykernel)",
   "language": "python",
   "name": "python3"
  },
  "language_info": {
   "codemirror_mode": {
    "name": "ipython",
    "version": 3
   },
   "file_extension": ".py",
   "mimetype": "text/x-python",
   "name": "python",
   "nbconvert_exporter": "python",
   "pygments_lexer": "ipython3",
   "version": "3.9.7"
  }
 },
 "nbformat": 4,
 "nbformat_minor": 5
}
