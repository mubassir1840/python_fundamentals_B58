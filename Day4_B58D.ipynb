{
 "cells": [
  {
   "cell_type": "code",
   "execution_count": null,
   "id": "00e01de0",
   "metadata": {},
   "outputs": [],
   "source": [
    "# Intro to List Data Types:\n",
    "    Def:  A list is collection of items declared in a particular order. \n",
    "    Classification:  it is classified as a mutable data type.\n",
    "    How to declare a list? using [] square brackets."
   ]
  },
  {
   "cell_type": "code",
   "execution_count": 2,
   "id": "0fc84290",
   "metadata": {},
   "outputs": [
    {
     "name": "stdout",
     "output_type": "stream",
     "text": [
      "['naveen', 'abdul', 'imran', 'joseph', 'keerthi', 'shaheen', 'dolly', 'navya']\n"
     ]
    }
   ],
   "source": [
    "students = ['naveen', 'abdul', 'imran','joseph','keerthi','shaheen','dolly','navya']\n",
    "print(students)"
   ]
  },
  {
   "cell_type": "code",
   "execution_count": 3,
   "id": "2ee1880c",
   "metadata": {},
   "outputs": [
    {
     "data": {
      "text/plain": [
       "list"
      ]
     },
     "execution_count": 3,
     "metadata": {},
     "output_type": "execute_result"
    }
   ],
   "source": [
    "type(students)"
   ]
  },
  {
   "cell_type": "code",
   "execution_count": null,
   "id": "b90ef1b3",
   "metadata": {},
   "outputs": [],
   "source": [
    "1. How to access the above elements in the list?\n",
    "# Req: I want to access \"abdul\" name from the list. \n",
    "2. Add new elements to the list?\n",
    "3. how to modify the elements in the list?\n",
    "4. how to delete the elements in the list?"
   ]
  },
  {
   "cell_type": "code",
   "execution_count": null,
   "id": "bd76c42a",
   "metadata": {},
   "outputs": [],
   "source": [
    "# Intro to Indexing:\n",
    "[0,1,2,3,4,....n]"
   ]
  },
  {
   "cell_type": "code",
   "execution_count": 7,
   "id": "a2d57f75",
   "metadata": {},
   "outputs": [
    {
     "name": "stdout",
     "output_type": "stream",
     "text": [
      "abdul\n",
      "keerthi\n"
     ]
    }
   ],
   "source": [
    "print(students[1])\n",
    "print(students[4])"
   ]
  },
  {
   "cell_type": "code",
   "execution_count": 8,
   "id": "e3743e0d",
   "metadata": {},
   "outputs": [
    {
     "name": "stdout",
     "output_type": "stream",
     "text": [
      "['naveen', 'abdul', 'imran', 'joseph', 'keerthi', 'shaheen', 'dolly', 'navya']\n"
     ]
    }
   ],
   "source": [
    "print(students)"
   ]
  },
  {
   "cell_type": "code",
   "execution_count": null,
   "id": "73eae062",
   "metadata": {},
   "outputs": [],
   "source": [
    "# req: add 'Kumar' to the list?\n",
    "Append."
   ]
  },
  {
   "cell_type": "code",
   "execution_count": 11,
   "id": "900f277f",
   "metadata": {},
   "outputs": [],
   "source": [
    "students.append('kumar')\n",
    "students.append('sana')"
   ]
  },
  {
   "cell_type": "code",
   "execution_count": 10,
   "id": "357015ed",
   "metadata": {},
   "outputs": [
    {
     "name": "stdout",
     "output_type": "stream",
     "text": [
      "['naveen', 'abdul', 'imran', 'joseph', 'keerthi', 'shaheen', 'dolly', 'navya', 'kumar']\n"
     ]
    }
   ],
   "source": [
    "print(students)"
   ]
  },
  {
   "cell_type": "code",
   "execution_count": 12,
   "id": "d6d38143",
   "metadata": {},
   "outputs": [
    {
     "name": "stdout",
     "output_type": "stream",
     "text": [
      "['naveen', 'abdul', 'imran', 'joseph', 'keerthi', 'shaheen', 'dolly', 'navya', 'kumar', 'kumar', 'sana']\n"
     ]
    }
   ],
   "source": [
    "print(students)"
   ]
  },
  {
   "cell_type": "code",
   "execution_count": null,
   "id": "ec9f7fc2",
   "metadata": {},
   "outputs": [],
   "source": [
    "# req: add 'yamini' to the 2nd index or position in the list\n",
    "insert(Index no,variable)"
   ]
  },
  {
   "cell_type": "code",
   "execution_count": 13,
   "id": "a4d5db99",
   "metadata": {},
   "outputs": [],
   "source": [
    "students.insert(2,'yamini')"
   ]
  },
  {
   "cell_type": "code",
   "execution_count": 14,
   "id": "d8fdf99a",
   "metadata": {},
   "outputs": [
    {
     "name": "stdout",
     "output_type": "stream",
     "text": [
      "yamini\n"
     ]
    }
   ],
   "source": [
    "print(students[2])"
   ]
  },
  {
   "cell_type": "code",
   "execution_count": 15,
   "id": "e6a587fe",
   "metadata": {},
   "outputs": [
    {
     "name": "stdout",
     "output_type": "stream",
     "text": [
      "['naveen', 'abdul', 'yamini', 'imran', 'joseph', 'keerthi', 'shaheen', 'dolly', 'navya', 'kumar', 'kumar', 'sana']\n"
     ]
    }
   ],
   "source": [
    "print(students)"
   ]
  },
  {
   "cell_type": "code",
   "execution_count": null,
   "id": "c638901b",
   "metadata": {},
   "outputs": [],
   "source": [
    "# req: modify 'naveen' into 'navya'"
   ]
  },
  {
   "cell_type": "code",
   "execution_count": 16,
   "id": "a5b2bc39",
   "metadata": {},
   "outputs": [],
   "source": [
    "students[0] = 'navya'"
   ]
  },
  {
   "cell_type": "code",
   "execution_count": 17,
   "id": "03b4d3fd",
   "metadata": {},
   "outputs": [
    {
     "name": "stdout",
     "output_type": "stream",
     "text": [
      "['navya', 'abdul', 'yamini', 'imran', 'joseph', 'keerthi', 'shaheen', 'dolly', 'navya', 'kumar', 'kumar', 'sana']\n"
     ]
    }
   ],
   "source": [
    "print(students)"
   ]
  },
  {
   "cell_type": "code",
   "execution_count": null,
   "id": "0440e6b0",
   "metadata": {},
   "outputs": [],
   "source": [
    "# req: delete 'joseph'"
   ]
  },
  {
   "cell_type": "code",
   "execution_count": 19,
   "id": "38d37dd8",
   "metadata": {},
   "outputs": [],
   "source": [
    "del students[4] # permanente delete"
   ]
  },
  {
   "cell_type": "code",
   "execution_count": 20,
   "id": "4e7cdfc3",
   "metadata": {},
   "outputs": [
    {
     "name": "stdout",
     "output_type": "stream",
     "text": [
      "['navya', 'abdul', 'yamini', 'imran', 'keerthi', 'shaheen', 'dolly', 'navya', 'kumar', 'kumar', 'sana']\n"
     ]
    }
   ],
   "source": [
    "print(students)"
   ]
  },
  {
   "cell_type": "code",
   "execution_count": null,
   "id": "e5a31b9a",
   "metadata": {},
   "outputs": [],
   "source": [
    "# pop ---> temp delete ----> it will create a carbon copy of the deleted items and store in a variable assigned to it. \n",
    "# by default it will delete the last element in the list."
   ]
  },
  {
   "cell_type": "code",
   "execution_count": 21,
   "id": "8ab33e21",
   "metadata": {},
   "outputs": [],
   "source": [
    "x = students.pop()"
   ]
  },
  {
   "cell_type": "code",
   "execution_count": 22,
   "id": "4894158d",
   "metadata": {},
   "outputs": [
    {
     "name": "stdout",
     "output_type": "stream",
     "text": [
      "['navya', 'abdul', 'yamini', 'imran', 'keerthi', 'shaheen', 'dolly', 'navya', 'kumar', 'kumar']\n"
     ]
    }
   ],
   "source": [
    "print(students)"
   ]
  },
  {
   "cell_type": "code",
   "execution_count": 23,
   "id": "f00a2054",
   "metadata": {},
   "outputs": [
    {
     "name": "stdout",
     "output_type": "stream",
     "text": [
      "sana\n"
     ]
    }
   ],
   "source": [
    "print(x)"
   ]
  },
  {
   "cell_type": "code",
   "execution_count": null,
   "id": "749b1302",
   "metadata": {},
   "outputs": [],
   "source": []
  },
  {
   "cell_type": "code",
   "execution_count": null,
   "id": "888ad5f1",
   "metadata": {},
   "outputs": [],
   "source": []
  },
  {
   "cell_type": "code",
   "execution_count": null,
   "id": "7ed3352c",
   "metadata": {},
   "outputs": [],
   "source": []
  },
  {
   "cell_type": "code",
   "execution_count": null,
   "id": "bc7ce88d",
   "metadata": {},
   "outputs": [],
   "source": []
  },
  {
   "cell_type": "code",
   "execution_count": null,
   "id": "ad86e827",
   "metadata": {},
   "outputs": [],
   "source": []
  },
  {
   "cell_type": "code",
   "execution_count": null,
   "id": "c36c9e35",
   "metadata": {},
   "outputs": [],
   "source": []
  }
 ],
 "metadata": {
  "kernelspec": {
   "display_name": "Python 3 (ipykernel)",
   "language": "python",
   "name": "python3"
  },
  "language_info": {
   "codemirror_mode": {
    "name": "ipython",
    "version": 3
   },
   "file_extension": ".py",
   "mimetype": "text/x-python",
   "name": "python",
   "nbconvert_exporter": "python",
   "pygments_lexer": "ipython3",
   "version": "3.9.7"
  }
 },
 "nbformat": 4,
 "nbformat_minor": 5
}
