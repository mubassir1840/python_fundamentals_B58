{
 "cells": [
  {
   "cell_type": "code",
   "execution_count": null,
   "id": "4ebd879b",
   "metadata": {},
   "outputs": [],
   "source": [
    "#Continuation with Strings:"
   ]
  },
  {
   "cell_type": "code",
   "execution_count": 1,
   "id": "1f4b5d4f",
   "metadata": {},
   "outputs": [
    {
     "name": "stdout",
     "output_type": "stream",
     "text": [
      "ravi kumar\n"
     ]
    }
   ],
   "source": [
    "full_name = 'ravi kumar'\n",
    "print(full_name)"
   ]
  },
  {
   "cell_type": "code",
   "execution_count": 2,
   "id": "5db8cca2",
   "metadata": {},
   "outputs": [
    {
     "name": "stdout",
     "output_type": "stream",
     "text": [
      "Ravi Kumar\n"
     ]
    }
   ],
   "source": [
    "print(full_name.title())"
   ]
  },
  {
   "cell_type": "code",
   "execution_count": null,
   "id": "ade48129",
   "metadata": {},
   "outputs": [],
   "source": [
    "# All Caps:"
   ]
  },
  {
   "cell_type": "code",
   "execution_count": 3,
   "id": "81101156",
   "metadata": {},
   "outputs": [
    {
     "name": "stdout",
     "output_type": "stream",
     "text": [
      "RAVI KUMAR\n"
     ]
    }
   ],
   "source": [
    "print(full_name.upper())"
   ]
  },
  {
   "cell_type": "code",
   "execution_count": null,
   "id": "6cb92a74",
   "metadata": {},
   "outputs": [],
   "source": [
    "# Lower case:"
   ]
  },
  {
   "cell_type": "code",
   "execution_count": 4,
   "id": "6c0e50b6",
   "metadata": {},
   "outputs": [
    {
     "name": "stdout",
     "output_type": "stream",
     "text": [
      "ravi kumar\n"
     ]
    }
   ],
   "source": [
    "print(full_name.lower())"
   ]
  },
  {
   "cell_type": "code",
   "execution_count": null,
   "id": "3a5e6976",
   "metadata": {},
   "outputs": [],
   "source": [
    "# Intro to f Strings:\n",
    "#Syntax:  f\"{placeholder1} {placeholder2} {placeholder3}....{placeholdern}\""
   ]
  },
  {
   "cell_type": "code",
   "execution_count": null,
   "id": "6b93e83e",
   "metadata": {},
   "outputs": [],
   "source": [
    "# get the full name:"
   ]
  },
  {
   "cell_type": "code",
   "execution_count": 7,
   "id": "ac14692f",
   "metadata": {},
   "outputs": [
    {
     "name": "stdout",
     "output_type": "stream",
     "text": [
      "sohail shaik\n"
     ]
    }
   ],
   "source": [
    "first_name = 'sohail'\n",
    "last_name = 'shaik'\n",
    "full_name = f\"{first_name} {last_name}\"\n",
    "print(full_name)"
   ]
  },
  {
   "cell_type": "code",
   "execution_count": 8,
   "id": "c4cd14bd",
   "metadata": {},
   "outputs": [
    {
     "name": "stdout",
     "output_type": "stream",
     "text": [
      "Keep up the good work, sohail shaik\n"
     ]
    }
   ],
   "source": [
    "message = f\"Keep up the good work, {full_name}\"\n",
    "print(message)"
   ]
  },
  {
   "cell_type": "code",
   "execution_count": 10,
   "id": "ee081aab",
   "metadata": {},
   "outputs": [
    {
     "name": "stdout",
     "output_type": "stream",
     "text": [
      "Keep up the good work, Sohail Shaik\n"
     ]
    }
   ],
   "source": [
    "message = f\"Keep up the good work, {full_name.title()}\"\n",
    "print(message)"
   ]
  },
  {
   "cell_type": "code",
   "execution_count": null,
   "id": "4fa0c538",
   "metadata": {},
   "outputs": [],
   "source": [
    "# adding white space to strings:"
   ]
  },
  {
   "cell_type": "code",
   "execution_count": null,
   "id": "eac64418",
   "metadata": {},
   "outputs": [],
   "source": [
    "# \\n ---> it is called as new line delimiter\n",
    "\\t ----> tab delimiter"
   ]
  },
  {
   "cell_type": "code",
   "execution_count": 11,
   "id": "ea3f4ece",
   "metadata": {},
   "outputs": [
    {
     "name": "stdout",
     "output_type": "stream",
     "text": [
      "Favourite_language:pythonc++javaswiftjavascript\n"
     ]
    }
   ],
   "source": [
    "print(\"Favourite_language:pythonc++javaswiftjavascript\")"
   ]
  },
  {
   "cell_type": "code",
   "execution_count": 12,
   "id": "d541f51c",
   "metadata": {},
   "outputs": [
    {
     "name": "stdout",
     "output_type": "stream",
     "text": [
      "Favourite_language:\n",
      "python\n",
      "c++\n",
      "java\n",
      "swift\n",
      "javascript\n"
     ]
    }
   ],
   "source": [
    "print(\"Favourite_language:\\npython\\nc++\\njava\\nswift\\njavascript\")"
   ]
  },
  {
   "cell_type": "code",
   "execution_count": 13,
   "id": "143b08bc",
   "metadata": {},
   "outputs": [
    {
     "name": "stdout",
     "output_type": "stream",
     "text": [
      "Favourite_language:\n",
      "\tpython\n",
      "\tc++\n",
      "\tjava\n",
      "\tswift\n",
      "\tjavascript\n"
     ]
    }
   ],
   "source": [
    "print(\"Favourite_language:\\n\\tpython\\n\\tc++\\n\\tjava\\n\\tswift\\n\\tjavascript\")"
   ]
  },
  {
   "cell_type": "code",
   "execution_count": null,
   "id": "9b9895d9",
   "metadata": {},
   "outputs": [],
   "source": [
    "# Removing white space from strings:"
   ]
  },
  {
   "cell_type": "code",
   "execution_count": 14,
   "id": "aafe011f",
   "metadata": {},
   "outputs": [
    {
     "name": "stdout",
     "output_type": "stream",
     "text": [
      "python\n"
     ]
    }
   ],
   "source": [
    "name = 'python'\n",
    "print (name)"
   ]
  },
  {
   "cell_type": "code",
   "execution_count": 16,
   "id": "44117e74",
   "metadata": {},
   "outputs": [
    {
     "name": "stdout",
     "output_type": "stream",
     "text": [
      "   java\n"
     ]
    }
   ],
   "source": [
    "name2 = '   java'\n",
    "print (name2)"
   ]
  },
  {
   "cell_type": "code",
   "execution_count": 17,
   "id": "c666bf98",
   "metadata": {},
   "outputs": [
    {
     "name": "stdout",
     "output_type": "stream",
     "text": [
      "c++    \n"
     ]
    }
   ],
   "source": [
    "name3 = 'c++    '\n",
    "print(name3)"
   ]
  },
  {
   "cell_type": "code",
   "execution_count": 18,
   "id": "4df64041",
   "metadata": {},
   "outputs": [
    {
     "data": {
      "text/plain": [
       "'java'"
      ]
     },
     "execution_count": 18,
     "metadata": {},
     "output_type": "execute_result"
    }
   ],
   "source": [
    "name2.lstrip()"
   ]
  },
  {
   "cell_type": "code",
   "execution_count": 19,
   "id": "01f64ef9",
   "metadata": {},
   "outputs": [
    {
     "data": {
      "text/plain": [
       "'c++'"
      ]
     },
     "execution_count": 19,
     "metadata": {},
     "output_type": "execute_result"
    }
   ],
   "source": [
    "name3.rstrip()"
   ]
  },
  {
   "cell_type": "code",
   "execution_count": null,
   "id": "9d50d43c",
   "metadata": {},
   "outputs": [],
   "source": []
  },
  {
   "cell_type": "code",
   "execution_count": null,
   "id": "de641b0b",
   "metadata": {},
   "outputs": [],
   "source": []
  }
 ],
 "metadata": {
  "kernelspec": {
   "display_name": "Python 3 (ipykernel)",
   "language": "python",
   "name": "python3"
  },
  "language_info": {
   "codemirror_mode": {
    "name": "ipython",
    "version": 3
   },
   "file_extension": ".py",
   "mimetype": "text/x-python",
   "name": "python",
   "nbconvert_exporter": "python",
   "pygments_lexer": "ipython3",
   "version": "3.9.7"
  }
 },
 "nbformat": 4,
 "nbformat_minor": 5
}
