{
 "cells": [
  {
   "cell_type": "code",
   "execution_count": null,
   "id": "a33cf364",
   "metadata": {},
   "outputs": [],
   "source": [
    "# Intro to looping statements:\n",
    "# understanding the concept of for loops:"
   ]
  },
  {
   "cell_type": "code",
   "execution_count": 2,
   "id": "7eaa4caf",
   "metadata": {},
   "outputs": [
    {
     "name": "stdout",
     "output_type": "stream",
     "text": [
      "['kumar', 'naveen', 'vinaya', 'samreen', 'naveed', 'sohail']\n"
     ]
    }
   ],
   "source": [
    "students = ['kumar','naveen','vinaya','samreen','naveed','sohail']\n",
    "print(students)"
   ]
  },
  {
   "cell_type": "code",
   "execution_count": null,
   "id": "3f0008a9",
   "metadata": {},
   "outputs": [],
   "source": [
    "1st approach: "
   ]
  },
  {
   "cell_type": "code",
   "execution_count": 8,
   "id": "24d43597",
   "metadata": {},
   "outputs": [
    {
     "name": "stdout",
     "output_type": "stream",
     "text": [
      "keep up the good work,kumar\n"
     ]
    }
   ],
   "source": [
    "message = f\"keep up the good work,{students[0]}\"\n",
    "print(message)"
   ]
  },
  {
   "cell_type": "code",
   "execution_count": 5,
   "id": "dda1d8fd",
   "metadata": {},
   "outputs": [
    {
     "name": "stdout",
     "output_type": "stream",
     "text": [
      "keep up the good work,naveen\n"
     ]
    }
   ],
   "source": [
    "message = f\"keep up the good work,{students[1]}\"\n",
    "print(message)"
   ]
  },
  {
   "cell_type": "code",
   "execution_count": 6,
   "id": "79ba0df3",
   "metadata": {},
   "outputs": [
    {
     "name": "stdout",
     "output_type": "stream",
     "text": [
      "keep up the good work, Vinaya\n"
     ]
    }
   ],
   "source": [
    "message = f\"keep up the good work, {students[2].title()}\"\n",
    "print(message)"
   ]
  },
  {
   "cell_type": "code",
   "execution_count": 19,
   "id": "c507596d",
   "metadata": {},
   "outputs": [
    {
     "ename": "IndentationError",
     "evalue": "expected an indented block (Temp/ipykernel_11360/2968660735.py, line 5)",
     "output_type": "error",
     "traceback": [
      "\u001b[1;36m  File \u001b[1;32m\"C:\\Users\\Shabaz\\AppData\\Local\\Temp/ipykernel_11360/2968660735.py\"\u001b[1;36m, line \u001b[1;32m5\u001b[0m\n\u001b[1;33m    print(f\"keep up the good work, {x.title()}\")\u001b[0m\n\u001b[1;37m    ^\u001b[0m\n\u001b[1;31mIndentationError\u001b[0m\u001b[1;31m:\u001b[0m expected an indented block\n"
     ]
    }
   ],
   "source": [
    "# general syntax of a \"for\" loop:\n",
    "# for tempvar in mainvar: print(tempvar)\n",
    "# indentation error. EX below:\n",
    "for x in students:\n",
    "print(f\"keep up the good work, {x.title()}\")"
   ]
  },
  {
   "cell_type": "code",
   "execution_count": 10,
   "id": "9c1b50f7",
   "metadata": {},
   "outputs": [
    {
     "name": "stdout",
     "output_type": "stream",
     "text": [
      "keep up the good work, Kumar\n",
      "keep up the good work, Naveen\n",
      "keep up the good work, Vinaya\n",
      "keep up the good work, Samreen\n",
      "keep up the good work, Naveed\n",
      "keep up the good work, Sohail\n"
     ]
    }
   ],
   "source": [
    "for x in students:\n",
    "    print(f\"keep up the good work, {x.title()}\")"
   ]
  },
  {
   "cell_type": "code",
   "execution_count": 11,
   "id": "9104f526",
   "metadata": {},
   "outputs": [
    {
     "name": "stdout",
     "output_type": "stream",
     "text": [
      "keep up the good work, Kumar\n",
      "keep up the good work, Naveen\n",
      "keep up the good work, Vinaya\n",
      "keep up the good work, Samreen\n",
      "keep up the good work, Naveed\n",
      "keep up the good work, Sohail\n"
     ]
    }
   ],
   "source": [
    "for ironman in students:\n",
    "    print(f\"keep up the good work, {ironman.title()}\")"
   ]
  },
  {
   "cell_type": "code",
   "execution_count": 12,
   "id": "9eda594b",
   "metadata": {},
   "outputs": [
    {
     "name": "stdout",
     "output_type": "stream",
     "text": [
      "keep up the good work, Sohail\n",
      "i will be looking forward to receive your github urls of today, Sohail\n"
     ]
    }
   ],
   "source": [
    "# req: enhancement of the code: "
   ]
  },
  {
   "cell_type": "code",
   "execution_count": 18,
   "id": "87a38b19",
   "metadata": {},
   "outputs": [
    {
     "name": "stdout",
     "output_type": "stream",
     "text": [
      "keep up the good work, Kumar\n",
      "i will be looking forward to receive your github urls of today, Kumar\n",
      "\n",
      "keep up the good work, Naveen\n",
      "i will be looking forward to receive your github urls of today, Naveen\n",
      "\n",
      "keep up the good work, Vinaya\n",
      "i will be looking forward to receive your github urls of today, Vinaya\n",
      "\n",
      "keep up the good work, Samreen\n",
      "i will be looking forward to receive your github urls of today, Samreen\n",
      "\n",
      "keep up the good work, Naveed\n",
      "i will be looking forward to receive your github urls of today, Naveed\n",
      "\n",
      "keep up the good work, Sohail\n",
      "i will be looking forward to receive your github urls of today, Sohail\n",
      "\n"
     ]
    }
   ],
   "source": [
    "for x in students:\n",
    "    print(f\"keep up the good work, {x.title()}\")\n",
    "    print(f\"i will be looking forward to receive your github urls of today, {x.title()}\\n\")"
   ]
  },
  {
   "cell_type": "raw",
   "id": "bb6cce71",
   "metadata": {},
   "source": [
    "for x in students:\n",
    "    print(f\"keep up the good work, {x.title()}\")\n",
    "    print(f\"i will be looking forward to receive your github urls of today, {x.title()}\\n\")\n",
    "\n",
    "print(\"Thank you all of you for joining in the python training session\")for x in students:\n",
    "print(\"Thank you all of you for joining in the python training session\")for x in students:\n",
    "    print(f\"keep up the good work, {x.title()}\")\n",
    "    print(f\"i will be looking forward to receive your github urls of today, {x.title()}\\n\")\n",
    "\n",
    "print(\"Thank you all of you for joining in the python training session\")"
   ]
  },
  {
   "cell_type": "code",
   "execution_count": 17,
   "id": "901ddfe6",
   "metadata": {},
   "outputs": [
    {
     "name": "stdout",
     "output_type": "stream",
     "text": [
      "keep up the good work, Kumar\n",
      "i will be looking forward to receive your github urls of today, Kumar\n",
      "\n",
      "keep up the good work, Naveen\n",
      "i will be looking forward to receive your github urls of today, Naveen\n",
      "\n",
      "keep up the good work, Vinaya\n",
      "i will be looking forward to receive your github urls of today, Vinaya\n",
      "\n",
      "keep up the good work, Samreen\n",
      "i will be looking forward to receive your github urls of today, Samreen\n",
      "\n",
      "keep up the good work, Naveed\n",
      "i will be looking forward to receive your github urls of today, Naveed\n",
      "\n",
      "keep up the good work, Sohail\n",
      "i will be looking forward to receive your github urls of today, Sohail\n",
      "\n",
      "Thank you all of you for joining in the python training session\n"
     ]
    }
   ],
   "source": [
    "for x in students:\n",
    "    print(f\"keep up the good work, {x.title()}\")\n",
    "    print(f\"i will be looking forward to receive your github urls of today, {x.title()}\\n\")\n",
    "\n",
    "print(\"Thank you all of you for joining in the python training session\")"
   ]
  }
 ],
 "metadata": {
  "kernelspec": {
   "display_name": "Python 3 (ipykernel)",
   "language": "python",
   "name": "python3"
  },
  "language_info": {
   "codemirror_mode": {
    "name": "ipython",
    "version": 3
   },
   "file_extension": ".py",
   "mimetype": "text/x-python",
   "name": "python",
   "nbconvert_exporter": "python",
   "pygments_lexer": "ipython3",
   "version": "3.9.7"
  }
 },
 "nbformat": 4,
 "nbformat_minor": 5
}
