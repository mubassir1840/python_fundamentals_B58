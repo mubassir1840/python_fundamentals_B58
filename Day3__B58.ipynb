{
 "cells": [
  {
   "cell_type": "code",
   "execution_count": null,
   "id": "7233762c",
   "metadata": {},
   "outputs": [],
   "source": [
    "Continuation with strings:"
   ]
  },
  {
   "cell_type": "code",
   "execution_count": null,
   "id": "4b859424",
   "metadata": {},
   "outputs": [],
   "source": [
    "Introduction to f strings:\n",
    "    # general syntax of f string:"
   ]
  },
  {
   "cell_type": "code",
   "execution_count": null,
   "id": "48221175",
   "metadata": {},
   "outputs": [],
   "source": [
    "f \"custom words {placeholder1} {placeholder2}.......{placeholder..n}\""
   ]
  },
  {
   "cell_type": "code",
   "execution_count": 2,
   "id": "146f37ce",
   "metadata": {},
   "outputs": [
    {
     "name": "stdout",
     "output_type": "stream",
     "text": [
      "shabaz mohammed\n"
     ]
    }
   ],
   "source": [
    "firstname = 'shabaz'\n",
    "lastname = 'mohammed'\n",
    "fullname = f\"{firstname} {lastname}\"\n",
    "print (fullname)"
   ]
  },
  {
   "cell_type": "code",
   "execution_count": 3,
   "id": "4182447c",
   "metadata": {},
   "outputs": [
    {
     "name": "stdout",
     "output_type": "stream",
     "text": [
      "Shabaz Mohammed\n"
     ]
    }
   ],
   "source": [
    "print (fullname.title())"
   ]
  },
  {
   "cell_type": "code",
   "execution_count": 4,
   "id": "1d0dd06f",
   "metadata": {},
   "outputs": [
    {
     "name": "stdout",
     "output_type": "stream",
     "text": [
      "keep up the good work, Shabaz Mohammed\n"
     ]
    }
   ],
   "source": [
    "print (f\"keep up the good work, {fullname.title()}\")"
   ]
  },
  {
   "cell_type": "code",
   "execution_count": null,
   "id": "eb5b22df",
   "metadata": {},
   "outputs": [],
   "source": []
  },
  {
   "cell_type": "code",
   "execution_count": null,
   "id": "4bd34dd9",
   "metadata": {},
   "outputs": [],
   "source": [
    "adding whitespaces to strings:"
   ]
  },
  {
   "cell_type": "code",
   "execution_count": 6,
   "id": "78ca4371",
   "metadata": {},
   "outputs": [
    {
     "name": "stdout",
     "output_type": "stream",
     "text": [
      "favourite_language:pythonc++javaswiftsql\n"
     ]
    }
   ],
   "source": [
    "print (\"favourite_language:pythonc++javaswiftsql\")"
   ]
  },
  {
   "cell_type": "code",
   "execution_count": 7,
   "id": "3b0288d7",
   "metadata": {},
   "outputs": [
    {
     "name": "stdout",
     "output_type": "stream",
     "text": [
      "favourite_language:\n",
      "python\n",
      "c++\n",
      "java\n",
      "nc\n",
      "swift\n",
      "sql\n"
     ]
    }
   ],
   "source": [
    "# \\n -----> new line delimeter\n",
    "print (\"favourite_language:\\npython\\nc++\\njava\\nnc\\nswift\\nsql\")"
   ]
  },
  {
   "cell_type": "code",
   "execution_count": 8,
   "id": "15939906",
   "metadata": {},
   "outputs": [
    {
     "name": "stdout",
     "output_type": "stream",
     "text": [
      "favourite_language:\n",
      "\tpython\n",
      " \tc++\n",
      " \tjava\n",
      " \tnc\n",
      " \tswift\n",
      " \tsql\n"
     ]
    }
   ],
   "source": [
    "# \\t ----> tab delimter\n",
    "print (\"favourite_language:\\n\\tpython\\n \\tc++\\n \\tjava\\n \\tnc\\n \\tswift\\n \\tsql\")"
   ]
  },
  {
   "cell_type": "code",
   "execution_count": null,
   "id": "aa841365",
   "metadata": {},
   "outputs": [],
   "source": [
    "how to remove whitespace from string:\n",
    "    lstrip and rstrip removes the whitespace from string. "
   ]
  },
  {
   "cell_type": "code",
   "execution_count": 9,
   "id": "1e7f012a",
   "metadata": {},
   "outputs": [
    {
     "name": "stdout",
     "output_type": "stream",
     "text": [
      "python\n"
     ]
    }
   ],
   "source": [
    "name = 'python'\n",
    "print (name)"
   ]
  },
  {
   "cell_type": "code",
   "execution_count": 10,
   "id": "8cf17336",
   "metadata": {},
   "outputs": [
    {
     "name": "stdout",
     "output_type": "stream",
     "text": [
      "   java\n"
     ]
    }
   ],
   "source": [
    "name2 = '   java'\n",
    "print (name2)"
   ]
  },
  {
   "cell_type": "code",
   "execution_count": 11,
   "id": "cef31691",
   "metadata": {},
   "outputs": [
    {
     "name": "stdout",
     "output_type": "stream",
     "text": [
      "sql   \n"
     ]
    }
   ],
   "source": [
    "name3 = 'sql   '\n",
    "print (name3)"
   ]
  },
  {
   "cell_type": "code",
   "execution_count": 14,
   "id": "d0b63bad",
   "metadata": {},
   "outputs": [
    {
     "name": "stdout",
     "output_type": "stream",
     "text": [
      "java\n"
     ]
    }
   ],
   "source": [
    "print (name2.lstrip())"
   ]
  },
  {
   "cell_type": "code",
   "execution_count": 15,
   "id": "7017bbf6",
   "metadata": {},
   "outputs": [
    {
     "name": "stdout",
     "output_type": "stream",
     "text": [
      "sql\n"
     ]
    }
   ],
   "source": [
    "print (name3.rstrip())"
   ]
  }
 ],
 "metadata": {
  "kernelspec": {
   "display_name": "Python 3 (ipykernel)",
   "language": "python",
   "name": "python3"
  },
  "language_info": {
   "codemirror_mode": {
    "name": "ipython",
    "version": 3
   },
   "file_extension": ".py",
   "mimetype": "text/x-python",
   "name": "python",
   "nbconvert_exporter": "python",
   "pygments_lexer": "ipython3",
   "version": "3.9.7"
  }
 },
 "nbformat": 4,
 "nbformat_minor": 5
}
