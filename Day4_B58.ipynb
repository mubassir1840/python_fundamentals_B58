{
 "cells": [
  {
   "cell_type": "code",
   "execution_count": null,
   "id": "c6b752c2",
   "metadata": {},
   "outputs": [],
   "source": [
    "Intro to List Data Types:\n",
    "    Definition: A list is a collection of items declared in a perticular order.\n",
    "        Classification: It is classfied as a mutable datatype.\n",
    "            How to declare the list: [] Square brackets."
   ]
  },
  {
   "cell_type": "code",
   "execution_count": 6,
   "id": "706831ec",
   "metadata": {},
   "outputs": [
    {
     "name": "stdout",
     "output_type": "stream",
     "text": [
      "['santosh', 'iqra', 'ramya', 'naveen', 'deepthi', 'adil']\n",
      "naveen\n",
      "adil\n",
      "Adil\n"
     ]
    }
   ],
   "source": [
    "students = ['santosh','iqra','ramya','naveen','deepthi','adil']   #0,1,2,3,4,5 Indexes\n",
    "print(students)\n",
    "print(students[3])\n",
    "print(students[5])\n",
    "print(students[5].title())"
   ]
  },
  {
   "cell_type": "code",
   "execution_count": null,
   "id": "99f8dff3",
   "metadata": {},
   "outputs": [],
   "source": [
    "Intro to Indexing: 0,1,2,3,4,......."
   ]
  },
  {
   "cell_type": "code",
   "execution_count": null,
   "id": "4a02527e",
   "metadata": {},
   "outputs": [],
   "source": [
    "1. How to add new elements to the list:\n",
    "2. How to modify elements to the list:\n",
    "3. How to delete the elements in the list:"
   ]
  },
  {
   "cell_type": "code",
   "execution_count": null,
   "id": "1368937b",
   "metadata": {},
   "outputs": [],
   "source": [
    "# requirement: add swathi to the list."
   ]
  },
  {
   "cell_type": "code",
   "execution_count": 8,
   "id": "7add0095",
   "metadata": {},
   "outputs": [],
   "source": [
    "students.append('swathi')"
   ]
  },
  {
   "cell_type": "code",
   "execution_count": 9,
   "id": "b2a7a9d0",
   "metadata": {},
   "outputs": [
    {
     "name": "stdout",
     "output_type": "stream",
     "text": [
      "['santosh', 'iqra', 'ramya', 'naveen', 'deepthi', 'adil', 'swathi']\n"
     ]
    }
   ],
   "source": [
    "print(students)"
   ]
  },
  {
   "cell_type": "code",
   "execution_count": null,
   "id": "5c3a7994",
   "metadata": {},
   "outputs": [],
   "source": [
    "# adding kumar."
   ]
  },
  {
   "cell_type": "code",
   "execution_count": 11,
   "id": "98e03f92",
   "metadata": {},
   "outputs": [],
   "source": [
    "students.append('kumar')"
   ]
  },
  {
   "cell_type": "code",
   "execution_count": 12,
   "id": "3ad3f994",
   "metadata": {},
   "outputs": [
    {
     "name": "stdout",
     "output_type": "stream",
     "text": [
      "['santosh', 'iqra', 'ramya', 'naveen', 'deepthi', 'adil', 'swathi', 'kumar']\n"
     ]
    }
   ],
   "source": [
    "print(students)"
   ]
  },
  {
   "cell_type": "code",
   "execution_count": null,
   "id": "6f0fa267",
   "metadata": {},
   "outputs": [],
   "source": [
    "# adding anjali to the second index:"
   ]
  },
  {
   "cell_type": "code",
   "execution_count": 13,
   "id": "a66e74d6",
   "metadata": {},
   "outputs": [],
   "source": [
    "students.insert(2,'anjali')"
   ]
  },
  {
   "cell_type": "code",
   "execution_count": 15,
   "id": "7dd351bd",
   "metadata": {},
   "outputs": [
    {
     "name": "stdout",
     "output_type": "stream",
     "text": [
      "['santosh', 'iqra', 'anjali', 'ramya', 'naveen', 'deepthi', 'adil', 'swathi', 'kumar']\n",
      "anjali\n"
     ]
    }
   ],
   "source": [
    "print(students)\n",
    "print(students[2])"
   ]
  },
  {
   "cell_type": "code",
   "execution_count": null,
   "id": "151d822b",
   "metadata": {},
   "outputs": [],
   "source": [
    "# differenece between append and insert method in a list.\n",
    "# appdend just adds the string. and insert will add the string at appropriate index. "
   ]
  },
  {
   "cell_type": "code",
   "execution_count": null,
   "id": "1d372ba5",
   "metadata": {},
   "outputs": [],
   "source": [
    "How to modify the elements to the list:\n",
    "    # req: modify santosh to ravi?"
   ]
  },
  {
   "cell_type": "code",
   "execution_count": 17,
   "id": "cb00dc1d",
   "metadata": {},
   "outputs": [
    {
     "name": "stdout",
     "output_type": "stream",
     "text": [
      "['ravi', 'iqra', 'anjali', 'ramya', 'naveen', 'deepthi', 'adil', 'swathi', 'kumar']\n"
     ]
    }
   ],
   "source": [
    "students[0] = 'ravi'\n",
    "print(students)"
   ]
  },
  {
   "cell_type": "code",
   "execution_count": 16,
   "id": "81d617f9",
   "metadata": {},
   "outputs": [
    {
     "name": "stdout",
     "output_type": "stream",
     "text": [
      "['santosh', 'iqra', 'anjali', 'ramya', 'naveen', 'deepthi', 'adil', 'swathi', 'kumar']\n"
     ]
    }
   ],
   "source": [
    "print(students)"
   ]
  },
  {
   "cell_type": "code",
   "execution_count": null,
   "id": "ead33ab8",
   "metadata": {},
   "outputs": [],
   "source": [
    "# delete ramya from the list:"
   ]
  },
  {
   "cell_type": "code",
   "execution_count": 19,
   "id": "22c879ea",
   "metadata": {},
   "outputs": [
    {
     "name": "stdout",
     "output_type": "stream",
     "text": [
      "['ravi', 'iqra', 'anjali', 'deepthi', 'adil', 'swathi', 'kumar']\n"
     ]
    }
   ],
   "source": [
    "del students[3]\n",
    "print(students)"
   ]
  },
  {
   "cell_type": "code",
   "execution_count": 20,
   "id": "5cf80566",
   "metadata": {},
   "outputs": [
    {
     "name": "stdout",
     "output_type": "stream",
     "text": [
      "['ravi', 'iqra', 'anjali', 'deepthi', 'adil', 'swathi', 'kumar']\n"
     ]
    }
   ],
   "source": [
    "print(students)"
   ]
  },
  {
   "cell_type": "code",
   "execution_count": null,
   "id": "9f290999",
   "metadata": {},
   "outputs": [],
   "source": []
  }
 ],
 "metadata": {
  "kernelspec": {
   "display_name": "Python 3 (ipykernel)",
   "language": "python",
   "name": "python3"
  },
  "language_info": {
   "codemirror_mode": {
    "name": "ipython",
    "version": 3
   },
   "file_extension": ".py",
   "mimetype": "text/x-python",
   "name": "python",
   "nbconvert_exporter": "python",
   "pygments_lexer": "ipython3",
   "version": "3.9.7"
  }
 },
 "nbformat": 4,
 "nbformat_minor": 5
}
