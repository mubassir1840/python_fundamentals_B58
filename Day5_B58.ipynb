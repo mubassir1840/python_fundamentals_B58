{
 "cells": [
  {
   "cell_type": "code",
   "execution_count": null,
   "id": "796de0b9",
   "metadata": {},
   "outputs": [],
   "source": [
    "# Continuation with List Datatypes:"
   ]
  },
  {
   "cell_type": "code",
   "execution_count": null,
   "id": "428dc067",
   "metadata": {},
   "outputs": [],
   "source": [
    "# Organising the list datatypes:"
   ]
  },
  {
   "cell_type": "code",
   "execution_count": 1,
   "id": "39bee5be",
   "metadata": {},
   "outputs": [
    {
     "name": "stdout",
     "output_type": "stream",
     "text": [
      "['kia', 'suzuki', 'audi', 'benz', 'tata', 'bmw']\n"
     ]
    }
   ],
   "source": [
    "cars=['kia','suzuki','audi','benz','tata','bmw']\n",
    "print(cars)"
   ]
  },
  {
   "cell_type": "code",
   "execution_count": null,
   "id": "71e1de52",
   "metadata": {},
   "outputs": [],
   "source": [
    "# req: list the cars in alphebetical order"
   ]
  },
  {
   "cell_type": "code",
   "execution_count": null,
   "id": "d760377c",
   "metadata": {},
   "outputs": [],
   "source": [
    "# temporary approach: changes are applied temp \"sorted\"\n",
    "# permenant approach: \"sort\""
   ]
  },
  {
   "cell_type": "code",
   "execution_count": 2,
   "id": "e78da9b3",
   "metadata": {},
   "outputs": [
    {
     "name": "stdout",
     "output_type": "stream",
     "text": [
      "['audi', 'benz', 'bmw', 'kia', 'suzuki', 'tata']\n"
     ]
    }
   ],
   "source": [
    "print (sorted(cars))"
   ]
  },
  {
   "cell_type": "code",
   "execution_count": 3,
   "id": "1267160c",
   "metadata": {},
   "outputs": [
    {
     "name": "stdout",
     "output_type": "stream",
     "text": [
      "['kia', 'suzuki', 'audi', 'benz', 'tata', 'bmw']\n"
     ]
    }
   ],
   "source": [
    "print(cars) # back to the original order."
   ]
  },
  {
   "cell_type": "code",
   "execution_count": 4,
   "id": "9edd27aa",
   "metadata": {},
   "outputs": [],
   "source": [
    "cars.sort()  # the changes are permenant. "
   ]
  },
  {
   "cell_type": "code",
   "execution_count": 5,
   "id": "8d43eb10",
   "metadata": {},
   "outputs": [
    {
     "name": "stdout",
     "output_type": "stream",
     "text": [
      "['audi', 'benz', 'bmw', 'kia', 'suzuki', 'tata']\n"
     ]
    }
   ],
   "source": [
    "print(cars)"
   ]
  },
  {
   "cell_type": "code",
   "execution_count": 9,
   "id": "d6164d23",
   "metadata": {},
   "outputs": [
    {
     "name": "stdout",
     "output_type": "stream",
     "text": [
      "['tata', 'suzuki', 'kia', 'bmw', 'benz', 'audi']\n"
     ]
    }
   ],
   "source": [
    "# req: print the list in the reverse order?\n",
    "cars.reverse()\n",
    "print(cars)"
   ]
  },
  {
   "cell_type": "code",
   "execution_count": 8,
   "id": "1f83e360",
   "metadata": {},
   "outputs": [
    {
     "name": "stdout",
     "output_type": "stream",
     "text": [
      "['audi', 'benz', 'bmw', 'kia', 'suzuki', 'tata']\n"
     ]
    }
   ],
   "source": [
    "print(cars)"
   ]
  },
  {
   "cell_type": "code",
   "execution_count": null,
   "id": "90cf158c",
   "metadata": {},
   "outputs": [],
   "source": [
    "# req: Count the number of elements in the list: \n",
    "# len(cars)"
   ]
  },
  {
   "cell_type": "code",
   "execution_count": 10,
   "id": "6562c2c8",
   "metadata": {},
   "outputs": [
    {
     "data": {
      "text/plain": [
       "6"
      ]
     },
     "execution_count": 10,
     "metadata": {},
     "output_type": "execute_result"
    }
   ],
   "source": [
    "len(cars)"
   ]
  },
  {
   "cell_type": "code",
   "execution_count": null,
   "id": "ddfd454a",
   "metadata": {},
   "outputs": [],
   "source": [
    "# Intro to slicing:"
   ]
  },
  {
   "cell_type": "code",
   "execution_count": 13,
   "id": "0f3f0e63",
   "metadata": {},
   "outputs": [
    {
     "name": "stdout",
     "output_type": "stream",
     "text": [
      "['ravi', 'joseph', 'naveed', 'imran', 'keerthi', 'shaheen', 'dolly', 'roohi']\n"
     ]
    }
   ],
   "source": [
    "students = ['ravi','joseph','naveed','imran','keerthi','shaheen','dolly','roohi']\n",
    "print(students)"
   ]
  },
  {
   "cell_type": "code",
   "execution_count": 14,
   "id": "7d796251",
   "metadata": {},
   "outputs": [
    {
     "data": {
      "text/plain": [
       "list"
      ]
     },
     "execution_count": 14,
     "metadata": {},
     "output_type": "execute_result"
    }
   ],
   "source": [
    "type(students)"
   ]
  },
  {
   "cell_type": "code",
   "execution_count": null,
   "id": "4ea61e0d",
   "metadata": {},
   "outputs": [],
   "source": [
    "# general syntax of slicing:"
   ]
  },
  {
   "cell_type": "code",
   "execution_count": null,
   "id": "7eeb35ce",
   "metadata": {},
   "outputs": [],
   "source": [
    "list[startvalue:stopvalue:stepcount]\n",
    "Note: Stop value is always exclusive, to include the stop value, have to increse the index by +1"
   ]
  },
  {
   "cell_type": "code",
   "execution_count": null,
   "id": "988bee54",
   "metadata": {},
   "outputs": [],
   "source": [
    "# include ravi and joseph in the list:"
   ]
  },
  {
   "cell_type": "code",
   "execution_count": 15,
   "id": "387abb98",
   "metadata": {},
   "outputs": [
    {
     "name": "stdout",
     "output_type": "stream",
     "text": [
      "['ravi']\n"
     ]
    }
   ],
   "source": [
    "print(students[0:1])"
   ]
  },
  {
   "cell_type": "code",
   "execution_count": 16,
   "id": "643544d1",
   "metadata": {},
   "outputs": [
    {
     "name": "stdout",
     "output_type": "stream",
     "text": [
      "['ravi', 'joseph']\n"
     ]
    }
   ],
   "source": [
    "print(students[0:2])"
   ]
  },
  {
   "cell_type": "code",
   "execution_count": null,
   "id": "effb799b",
   "metadata": {},
   "outputs": [],
   "source": [
    "# req: include the names of naveed and imran"
   ]
  },
  {
   "cell_type": "code",
   "execution_count": 17,
   "id": "e2dc02ed",
   "metadata": {},
   "outputs": [
    {
     "name": "stdout",
     "output_type": "stream",
     "text": [
      "['naveed', 'imran']\n"
     ]
    }
   ],
   "source": [
    "print(students[2:4])"
   ]
  },
  {
   "cell_type": "code",
   "execution_count": null,
   "id": "4cc375f5",
   "metadata": {},
   "outputs": [],
   "source": [
    "# req: include the names of dolly and ruhi:"
   ]
  },
  {
   "cell_type": "code",
   "execution_count": 18,
   "id": "b6908adf",
   "metadata": {},
   "outputs": [
    {
     "name": "stdout",
     "output_type": "stream",
     "text": [
      "['dolly', 'roohi']\n"
     ]
    }
   ],
   "source": [
    "print(students[6:8])"
   ]
  },
  {
   "cell_type": "code",
   "execution_count": 19,
   "id": "84fdaaa8",
   "metadata": {},
   "outputs": [
    {
     "name": "stdout",
     "output_type": "stream",
     "text": [
      "['ravi', 'joseph', 'naveed', 'imran', 'keerthi', 'shaheen', 'dolly', 'roohi']\n"
     ]
    }
   ],
   "source": [
    "print(students)"
   ]
  },
  {
   "cell_type": "code",
   "execution_count": 20,
   "id": "82739c8a",
   "metadata": {},
   "outputs": [
    {
     "name": "stdout",
     "output_type": "stream",
     "text": [
      "['ravi', 'naveed', 'keerthi', 'dolly']\n"
     ]
    }
   ],
   "source": [
    "print(students[0:7:2])"
   ]
  },
  {
   "cell_type": "code",
   "execution_count": 24,
   "id": "5ea5206d",
   "metadata": {},
   "outputs": [
    {
     "name": "stdout",
     "output_type": "stream",
     "text": [
      "['ravi', 'imran', 'dolly']\n"
     ]
    }
   ],
   "source": [
    "print(students[0:8:3])"
   ]
  },
  {
   "cell_type": "code",
   "execution_count": null,
   "id": "e110b81d",
   "metadata": {},
   "outputs": [],
   "source": []
  },
  {
   "cell_type": "code",
   "execution_count": null,
   "id": "3aa1bae3",
   "metadata": {},
   "outputs": [],
   "source": []
  },
  {
   "cell_type": "code",
   "execution_count": null,
   "id": "0df904b9",
   "metadata": {},
   "outputs": [],
   "source": []
  }
 ],
 "metadata": {
  "kernelspec": {
   "display_name": "Python 3 (ipykernel)",
   "language": "python",
   "name": "python3"
  },
  "language_info": {
   "codemirror_mode": {
    "name": "ipython",
    "version": 3
   },
   "file_extension": ".py",
   "mimetype": "text/x-python",
   "name": "python",
   "nbconvert_exporter": "python",
   "pygments_lexer": "ipython3",
   "version": "3.9.7"
  }
 },
 "nbformat": 4,
 "nbformat_minor": 5
}
